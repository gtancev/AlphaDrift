{
 "cells": [
  {
   "cell_type": "code",
   "execution_count": 2,
   "metadata": {},
   "outputs": [],
   "source": [
    "# Load libriaries.\n",
    "import pandas as pd\n",
    "import numpy as np\n",
    "import scipy as sp\n",
    "from sklearn.preprocessing import StandardScaler, MinMaxScaler\n",
    "from sklearn.covariance import EllipticEnvelope\n",
    "from sklearn.neighbors import LocalOutlierFactor\n",
    "from sklearn.svm import OneClassSVM\n",
    "from sklearn.ensemble import IsolationForest\n",
    "from sklearn.decomposition import PCA\n",
    "\n",
    "# Instantiate objects.\n",
    "scaler = MinMaxScaler()\n",
    "\n",
    "%matplotlib inline\n",
    "import matplotlib.pyplot as plt\n",
    "plt.rcParams['lines.linewidth'] = 1.0\n",
    "plt.rcParams['font.size'] = 6.0\n",
    "plt.rcParams['axes.titlesize'] = 6.0"
   ]
  },
  {
   "cell_type": "code",
   "execution_count": 3,
   "metadata": {},
   "outputs": [
    {
     "data": {
      "text/html": [
       "<div>\n",
       "<style scoped>\n",
       "    .dataframe tbody tr th:only-of-type {\n",
       "        vertical-align: middle;\n",
       "    }\n",
       "\n",
       "    .dataframe tbody tr th {\n",
       "        vertical-align: top;\n",
       "    }\n",
       "\n",
       "    .dataframe thead th {\n",
       "        text-align: right;\n",
       "    }\n",
       "</style>\n",
       "<table border=\"1\" class=\"dataframe\">\n",
       "  <thead>\n",
       "    <tr style=\"text-align: right;\">\n",
       "      <th></th>\n",
       "      <th>CO_ref</th>\n",
       "      <th>CO2_ref</th>\n",
       "      <th>SO2_ref</th>\n",
       "      <th>NO2_ref</th>\n",
       "      <th>O3_ref</th>\n",
       "      <th>Alphasense_CO-B41#1</th>\n",
       "      <th>Alphasense_SO2-B4#1</th>\n",
       "      <th>Alphasense_NO2-B43F#1</th>\n",
       "      <th>Alphasense_OX-B431#1</th>\n",
       "      <th>CO2#1</th>\n",
       "      <th>...</th>\n",
       "      <th>CO2#18</th>\n",
       "      <th>T#18</th>\n",
       "      <th>RH#18</th>\n",
       "      <th>Alphasense_CO-B41#19</th>\n",
       "      <th>Alphasense_SO2-B4#19</th>\n",
       "      <th>Alphasense_NO2-B43F#19</th>\n",
       "      <th>Alphasense_OX-B431#19</th>\n",
       "      <th>CO2#19</th>\n",
       "      <th>T#19</th>\n",
       "      <th>RH#19</th>\n",
       "    </tr>\n",
       "  </thead>\n",
       "  <tbody>\n",
       "    <tr>\n",
       "      <th>count</th>\n",
       "      <td>14630.000000</td>\n",
       "      <td>13830.000000</td>\n",
       "      <td>2234.000000</td>\n",
       "      <td>9429.000000</td>\n",
       "      <td>14194.000000</td>\n",
       "      <td>6574.000000</td>\n",
       "      <td>6574.000000</td>\n",
       "      <td>6574.000000</td>\n",
       "      <td>6574.000000</td>\n",
       "      <td>6574.000000</td>\n",
       "      <td>...</td>\n",
       "      <td>9219.000000</td>\n",
       "      <td>9219.000000</td>\n",
       "      <td>9219.000000</td>\n",
       "      <td>6570.000000</td>\n",
       "      <td>6570.000000</td>\n",
       "      <td>6570.000000</td>\n",
       "      <td>6570.000000</td>\n",
       "      <td>6570.000000</td>\n",
       "      <td>6570.000000</td>\n",
       "      <td>6570.000000</td>\n",
       "    </tr>\n",
       "    <tr>\n",
       "      <th>mean</th>\n",
       "      <td>263.118649</td>\n",
       "      <td>442.705800</td>\n",
       "      <td>1.031936</td>\n",
       "      <td>10.887076</td>\n",
       "      <td>22.100680</td>\n",
       "      <td>-185.588917</td>\n",
       "      <td>7.758719</td>\n",
       "      <td>12.703853</td>\n",
       "      <td>23.552130</td>\n",
       "      <td>769.501245</td>\n",
       "      <td>...</td>\n",
       "      <td>892.599772</td>\n",
       "      <td>16.693705</td>\n",
       "      <td>71.260951</td>\n",
       "      <td>-100.080652</td>\n",
       "      <td>6.142436</td>\n",
       "      <td>6.126899</td>\n",
       "      <td>26.699868</td>\n",
       "      <td>618.874086</td>\n",
       "      <td>21.112909</td>\n",
       "      <td>68.543435</td>\n",
       "    </tr>\n",
       "    <tr>\n",
       "      <th>std</th>\n",
       "      <td>237.577854</td>\n",
       "      <td>30.467453</td>\n",
       "      <td>1.143763</td>\n",
       "      <td>7.492827</td>\n",
       "      <td>11.515163</td>\n",
       "      <td>168.256504</td>\n",
       "      <td>7.201765</td>\n",
       "      <td>3.524194</td>\n",
       "      <td>5.830497</td>\n",
       "      <td>457.354590</td>\n",
       "      <td>...</td>\n",
       "      <td>590.472150</td>\n",
       "      <td>8.736281</td>\n",
       "      <td>12.981758</td>\n",
       "      <td>200.032452</td>\n",
       "      <td>8.352555</td>\n",
       "      <td>6.287330</td>\n",
       "      <td>11.482361</td>\n",
       "      <td>145.373696</td>\n",
       "      <td>7.863764</td>\n",
       "      <td>14.374059</td>\n",
       "    </tr>\n",
       "    <tr>\n",
       "      <th>min</th>\n",
       "      <td>39.511100</td>\n",
       "      <td>403.020000</td>\n",
       "      <td>0.001100</td>\n",
       "      <td>0.038420</td>\n",
       "      <td>0.004304</td>\n",
       "      <td>-1996.370000</td>\n",
       "      <td>-38.672700</td>\n",
       "      <td>1.650790</td>\n",
       "      <td>5.576270</td>\n",
       "      <td>1.555560</td>\n",
       "      <td>...</td>\n",
       "      <td>0.000000</td>\n",
       "      <td>-4.653330</td>\n",
       "      <td>31.868300</td>\n",
       "      <td>-2271.500000</td>\n",
       "      <td>-37.916700</td>\n",
       "      <td>-17.132100</td>\n",
       "      <td>-7.129030</td>\n",
       "      <td>0.163934</td>\n",
       "      <td>-7.710000</td>\n",
       "      <td>31.720300</td>\n",
       "    </tr>\n",
       "    <tr>\n",
       "      <th>25%</th>\n",
       "      <td>156.679750</td>\n",
       "      <td>425.462000</td>\n",
       "      <td>0.306059</td>\n",
       "      <td>5.604380</td>\n",
       "      <td>14.150550</td>\n",
       "      <td>-186.308500</td>\n",
       "      <td>4.387242</td>\n",
       "      <td>10.408000</td>\n",
       "      <td>19.485200</td>\n",
       "      <td>462.862250</td>\n",
       "      <td>...</td>\n",
       "      <td>529.192000</td>\n",
       "      <td>9.700000</td>\n",
       "      <td>61.719000</td>\n",
       "      <td>-159.358000</td>\n",
       "      <td>1.083685</td>\n",
       "      <td>2.656473</td>\n",
       "      <td>17.740875</td>\n",
       "      <td>532.911000</td>\n",
       "      <td>17.400000</td>\n",
       "      <td>57.164650</td>\n",
       "    </tr>\n",
       "    <tr>\n",
       "      <th>50%</th>\n",
       "      <td>190.287000</td>\n",
       "      <td>432.782500</td>\n",
       "      <td>0.673145</td>\n",
       "      <td>8.729700</td>\n",
       "      <td>21.301700</td>\n",
       "      <td>-124.200000</td>\n",
       "      <td>8.939960</td>\n",
       "      <td>12.527300</td>\n",
       "      <td>23.220200</td>\n",
       "      <td>615.553000</td>\n",
       "      <td>...</td>\n",
       "      <td>720.000000</td>\n",
       "      <td>17.300000</td>\n",
       "      <td>72.200000</td>\n",
       "      <td>-100.500000</td>\n",
       "      <td>5.474130</td>\n",
       "      <td>6.157890</td>\n",
       "      <td>25.008350</td>\n",
       "      <td>594.884000</td>\n",
       "      <td>22.236450</td>\n",
       "      <td>69.800000</td>\n",
       "    </tr>\n",
       "    <tr>\n",
       "      <th>75%</th>\n",
       "      <td>264.302500</td>\n",
       "      <td>447.236750</td>\n",
       "      <td>1.266405</td>\n",
       "      <td>13.683400</td>\n",
       "      <td>28.902025</td>\n",
       "      <td>-100.436000</td>\n",
       "      <td>12.290750</td>\n",
       "      <td>14.655575</td>\n",
       "      <td>27.230525</td>\n",
       "      <td>947.830750</td>\n",
       "      <td>...</td>\n",
       "      <td>1125.420000</td>\n",
       "      <td>23.409100</td>\n",
       "      <td>82.043750</td>\n",
       "      <td>-30.456950</td>\n",
       "      <td>10.283000</td>\n",
       "      <td>10.000000</td>\n",
       "      <td>34.106475</td>\n",
       "      <td>705.833500</td>\n",
       "      <td>26.210375</td>\n",
       "      <td>80.299525</td>\n",
       "    </tr>\n",
       "    <tr>\n",
       "      <th>max</th>\n",
       "      <td>3234.940000</td>\n",
       "      <td>672.386000</td>\n",
       "      <td>8.270540</td>\n",
       "      <td>44.994100</td>\n",
       "      <td>80.614900</td>\n",
       "      <td>-20.836400</td>\n",
       "      <td>23.961500</td>\n",
       "      <td>29.491500</td>\n",
       "      <td>51.000000</td>\n",
       "      <td>2001.000000</td>\n",
       "      <td>...</td>\n",
       "      <td>2001.000000</td>\n",
       "      <td>35.724600</td>\n",
       "      <td>94.850000</td>\n",
       "      <td>564.964000</td>\n",
       "      <td>34.000000</td>\n",
       "      <td>32.092600</td>\n",
       "      <td>74.000000</td>\n",
       "      <td>1447.500000</td>\n",
       "      <td>37.272200</td>\n",
       "      <td>96.200000</td>\n",
       "    </tr>\n",
       "  </tbody>\n",
       "</table>\n",
       "<p>8 rows × 138 columns</p>\n",
       "</div>"
      ],
      "text/plain": [
       "             CO_ref       CO2_ref      SO2_ref      NO2_ref        O3_ref  \\\n",
       "count  14630.000000  13830.000000  2234.000000  9429.000000  14194.000000   \n",
       "mean     263.118649    442.705800     1.031936    10.887076     22.100680   \n",
       "std      237.577854     30.467453     1.143763     7.492827     11.515163   \n",
       "min       39.511100    403.020000     0.001100     0.038420      0.004304   \n",
       "25%      156.679750    425.462000     0.306059     5.604380     14.150550   \n",
       "50%      190.287000    432.782500     0.673145     8.729700     21.301700   \n",
       "75%      264.302500    447.236750     1.266405    13.683400     28.902025   \n",
       "max     3234.940000    672.386000     8.270540    44.994100     80.614900   \n",
       "\n",
       "       Alphasense_CO-B41#1  Alphasense_SO2-B4#1  Alphasense_NO2-B43F#1  \\\n",
       "count          6574.000000          6574.000000            6574.000000   \n",
       "mean           -185.588917             7.758719              12.703853   \n",
       "std             168.256504             7.201765               3.524194   \n",
       "min           -1996.370000           -38.672700               1.650790   \n",
       "25%            -186.308500             4.387242              10.408000   \n",
       "50%            -124.200000             8.939960              12.527300   \n",
       "75%            -100.436000            12.290750              14.655575   \n",
       "max             -20.836400            23.961500              29.491500   \n",
       "\n",
       "       Alphasense_OX-B431#1        CO2#1  ...       CO2#18         T#18  \\\n",
       "count           6574.000000  6574.000000  ...  9219.000000  9219.000000   \n",
       "mean              23.552130   769.501245  ...   892.599772    16.693705   \n",
       "std                5.830497   457.354590  ...   590.472150     8.736281   \n",
       "min                5.576270     1.555560  ...     0.000000    -4.653330   \n",
       "25%               19.485200   462.862250  ...   529.192000     9.700000   \n",
       "50%               23.220200   615.553000  ...   720.000000    17.300000   \n",
       "75%               27.230525   947.830750  ...  1125.420000    23.409100   \n",
       "max               51.000000  2001.000000  ...  2001.000000    35.724600   \n",
       "\n",
       "             RH#18  Alphasense_CO-B41#19  Alphasense_SO2-B4#19  \\\n",
       "count  9219.000000           6570.000000           6570.000000   \n",
       "mean     71.260951           -100.080652              6.142436   \n",
       "std      12.981758            200.032452              8.352555   \n",
       "min      31.868300          -2271.500000            -37.916700   \n",
       "25%      61.719000           -159.358000              1.083685   \n",
       "50%      72.200000           -100.500000              5.474130   \n",
       "75%      82.043750            -30.456950             10.283000   \n",
       "max      94.850000            564.964000             34.000000   \n",
       "\n",
       "       Alphasense_NO2-B43F#19  Alphasense_OX-B431#19       CO2#19  \\\n",
       "count             6570.000000            6570.000000  6570.000000   \n",
       "mean                 6.126899              26.699868   618.874086   \n",
       "std                  6.287330              11.482361   145.373696   \n",
       "min                -17.132100              -7.129030     0.163934   \n",
       "25%                  2.656473              17.740875   532.911000   \n",
       "50%                  6.157890              25.008350   594.884000   \n",
       "75%                 10.000000              34.106475   705.833500   \n",
       "max                 32.092600              74.000000  1447.500000   \n",
       "\n",
       "              T#19        RH#19  \n",
       "count  6570.000000  6570.000000  \n",
       "mean     21.112909    68.543435  \n",
       "std       7.863764    14.374059  \n",
       "min      -7.710000    31.720300  \n",
       "25%      17.400000    57.164650  \n",
       "50%      22.236450    69.800000  \n",
       "75%      26.210375    80.299525  \n",
       "max      37.272200    96.200000  \n",
       "\n",
       "[8 rows x 138 columns]"
      ]
     },
     "execution_count": 3,
     "metadata": {},
     "output_type": "execute_result"
    }
   ],
   "source": [
    "# Define moving-average function.\n",
    "def moving_average(x, w):\n",
    "    return np.convolve(x, np.ones(w), \"same\") / w\n",
    "w = 672 # 1 week for moving average\n",
    "\n",
    "# Load data and keep only first six months.\n",
    "data = pd.read_csv(\"Zimmerman2018.csv\", index_col=0)\n",
    "\n",
    "# Visualize data summary.\n",
    "data.describe()"
   ]
  },
  {
   "cell_type": "code",
   "execution_count": 4,
   "metadata": {},
   "outputs": [
    {
     "data": {
      "text/html": [
       "<div>\n",
       "<style scoped>\n",
       "    .dataframe tbody tr th:only-of-type {\n",
       "        vertical-align: middle;\n",
       "    }\n",
       "\n",
       "    .dataframe tbody tr th {\n",
       "        vertical-align: top;\n",
       "    }\n",
       "\n",
       "    .dataframe thead th {\n",
       "        text-align: right;\n",
       "    }\n",
       "</style>\n",
       "<table border=\"1\" class=\"dataframe\">\n",
       "  <thead>\n",
       "    <tr style=\"text-align: right;\">\n",
       "      <th></th>\n",
       "      <th>CO_ref</th>\n",
       "      <th>CO2_ref</th>\n",
       "      <th>NO2_ref</th>\n",
       "      <th>O3_ref</th>\n",
       "      <th>Alphasense_CO-B41#4</th>\n",
       "      <th>Alphasense_SO2-B4#4</th>\n",
       "      <th>Alphasense_NO2-B43F#4</th>\n",
       "      <th>Alphasense_OX-B431#4</th>\n",
       "      <th>CO2#4</th>\n",
       "      <th>T#4</th>\n",
       "      <th>...</th>\n",
       "      <th>CO2#16</th>\n",
       "      <th>T#16</th>\n",
       "      <th>RH#16</th>\n",
       "      <th>Alphasense_CO-B41#17</th>\n",
       "      <th>Alphasense_SO2-B4#17</th>\n",
       "      <th>Alphasense_NO2-B43F#17</th>\n",
       "      <th>Alphasense_OX-B431#17</th>\n",
       "      <th>CO2#17</th>\n",
       "      <th>T#17</th>\n",
       "      <th>RH#17</th>\n",
       "    </tr>\n",
       "  </thead>\n",
       "  <tbody>\n",
       "    <tr>\n",
       "      <th>count</th>\n",
       "      <td>10020.000000</td>\n",
       "      <td>10351.000000</td>\n",
       "      <td>9333.000000</td>\n",
       "      <td>9417.000000</td>\n",
       "      <td>10055.000000</td>\n",
       "      <td>10055.000000</td>\n",
       "      <td>10055.000000</td>\n",
       "      <td>10055.000000</td>\n",
       "      <td>10055.000000</td>\n",
       "      <td>10055.000000</td>\n",
       "      <td>...</td>\n",
       "      <td>7894.000000</td>\n",
       "      <td>7894.000000</td>\n",
       "      <td>7894.000000</td>\n",
       "      <td>7698.000000</td>\n",
       "      <td>7698.000000</td>\n",
       "      <td>7698.00000</td>\n",
       "      <td>7698.000000</td>\n",
       "      <td>7698.000000</td>\n",
       "      <td>7698.000000</td>\n",
       "      <td>7698.000000</td>\n",
       "    </tr>\n",
       "    <tr>\n",
       "      <th>mean</th>\n",
       "      <td>275.193281</td>\n",
       "      <td>442.246188</td>\n",
       "      <td>10.969947</td>\n",
       "      <td>21.361927</td>\n",
       "      <td>-201.604001</td>\n",
       "      <td>6.184139</td>\n",
       "      <td>12.543444</td>\n",
       "      <td>22.459843</td>\n",
       "      <td>469.818142</td>\n",
       "      <td>6.015690</td>\n",
       "      <td>...</td>\n",
       "      <td>547.683091</td>\n",
       "      <td>6.706984</td>\n",
       "      <td>65.249933</td>\n",
       "      <td>-160.667201</td>\n",
       "      <td>12.632805</td>\n",
       "      <td>9.78186</td>\n",
       "      <td>22.077238</td>\n",
       "      <td>463.238893</td>\n",
       "      <td>6.739780</td>\n",
       "      <td>71.297183</td>\n",
       "    </tr>\n",
       "    <tr>\n",
       "      <th>std</th>\n",
       "      <td>242.184368</td>\n",
       "      <td>31.547392</td>\n",
       "      <td>7.485200</td>\n",
       "      <td>9.567744</td>\n",
       "      <td>155.832491</td>\n",
       "      <td>8.463350</td>\n",
       "      <td>3.719455</td>\n",
       "      <td>6.205154</td>\n",
       "      <td>155.642378</td>\n",
       "      <td>7.416733</td>\n",
       "      <td>...</td>\n",
       "      <td>190.346266</td>\n",
       "      <td>7.551328</td>\n",
       "      <td>2.642663</td>\n",
       "      <td>113.951768</td>\n",
       "      <td>8.083833</td>\n",
       "      <td>3.44502</td>\n",
       "      <td>5.782194</td>\n",
       "      <td>144.277773</td>\n",
       "      <td>7.576898</td>\n",
       "      <td>10.577500</td>\n",
       "    </tr>\n",
       "    <tr>\n",
       "      <th>min</th>\n",
       "      <td>76.933300</td>\n",
       "      <td>403.603000</td>\n",
       "      <td>0.038420</td>\n",
       "      <td>0.004304</td>\n",
       "      <td>-1827.400000</td>\n",
       "      <td>-66.236100</td>\n",
       "      <td>-4.000000</td>\n",
       "      <td>3.370370</td>\n",
       "      <td>0.000000</td>\n",
       "      <td>-15.382100</td>\n",
       "      <td>...</td>\n",
       "      <td>0.000000</td>\n",
       "      <td>-14.095800</td>\n",
       "      <td>57.047700</td>\n",
       "      <td>-1220.770000</td>\n",
       "      <td>-26.850000</td>\n",
       "      <td>-2.58621</td>\n",
       "      <td>6.543860</td>\n",
       "      <td>0.000000</td>\n",
       "      <td>-14.665000</td>\n",
       "      <td>44.096700</td>\n",
       "    </tr>\n",
       "    <tr>\n",
       "      <th>25%</th>\n",
       "      <td>162.144500</td>\n",
       "      <td>425.745000</td>\n",
       "      <td>5.691300</td>\n",
       "      <td>15.228700</td>\n",
       "      <td>-209.627500</td>\n",
       "      <td>3.205300</td>\n",
       "      <td>10.194200</td>\n",
       "      <td>18.074100</td>\n",
       "      <td>424.618000</td>\n",
       "      <td>0.985365</td>\n",
       "      <td>...</td>\n",
       "      <td>445.741000</td>\n",
       "      <td>1.560000</td>\n",
       "      <td>63.718200</td>\n",
       "      <td>-172.936000</td>\n",
       "      <td>8.643633</td>\n",
       "      <td>7.60000</td>\n",
       "      <td>18.049200</td>\n",
       "      <td>427.641750</td>\n",
       "      <td>1.600000</td>\n",
       "      <td>63.496875</td>\n",
       "    </tr>\n",
       "    <tr>\n",
       "      <th>50%</th>\n",
       "      <td>194.040500</td>\n",
       "      <td>432.274000</td>\n",
       "      <td>8.811800</td>\n",
       "      <td>21.319100</td>\n",
       "      <td>-146.983000</td>\n",
       "      <td>7.433330</td>\n",
       "      <td>12.472700</td>\n",
       "      <td>22.214300</td>\n",
       "      <td>463.750000</td>\n",
       "      <td>5.094640</td>\n",
       "      <td>...</td>\n",
       "      <td>508.915500</td>\n",
       "      <td>5.812200</td>\n",
       "      <td>65.400000</td>\n",
       "      <td>-121.800000</td>\n",
       "      <td>14.200000</td>\n",
       "      <td>9.71667</td>\n",
       "      <td>21.605200</td>\n",
       "      <td>452.475000</td>\n",
       "      <td>5.838395</td>\n",
       "      <td>70.852200</td>\n",
       "    </tr>\n",
       "    <tr>\n",
       "      <th>75%</th>\n",
       "      <td>270.376750</td>\n",
       "      <td>442.687000</td>\n",
       "      <td>13.763700</td>\n",
       "      <td>27.685600</td>\n",
       "      <td>-120.991500</td>\n",
       "      <td>11.500000</td>\n",
       "      <td>14.914550</td>\n",
       "      <td>26.536100</td>\n",
       "      <td>510.339000</td>\n",
       "      <td>10.449050</td>\n",
       "      <td>...</td>\n",
       "      <td>605.257750</td>\n",
       "      <td>11.006450</td>\n",
       "      <td>67.100000</td>\n",
       "      <td>-98.883300</td>\n",
       "      <td>18.309100</td>\n",
       "      <td>11.86670</td>\n",
       "      <td>25.583300</td>\n",
       "      <td>488.677250</td>\n",
       "      <td>11.227075</td>\n",
       "      <td>79.791675</td>\n",
       "    </tr>\n",
       "    <tr>\n",
       "      <th>max</th>\n",
       "      <td>3003.950000</td>\n",
       "      <td>672.386000</td>\n",
       "      <td>44.994100</td>\n",
       "      <td>56.025400</td>\n",
       "      <td>-59.200000</td>\n",
       "      <td>23.781800</td>\n",
       "      <td>28.481500</td>\n",
       "      <td>47.234000</td>\n",
       "      <td>2001.000000</td>\n",
       "      <td>28.984900</td>\n",
       "      <td>...</td>\n",
       "      <td>2001.000000</td>\n",
       "      <td>28.382500</td>\n",
       "      <td>72.284500</td>\n",
       "      <td>-51.566700</td>\n",
       "      <td>33.816700</td>\n",
       "      <td>25.85250</td>\n",
       "      <td>48.900000</td>\n",
       "      <td>2001.000000</td>\n",
       "      <td>28.269100</td>\n",
       "      <td>95.513300</td>\n",
       "    </tr>\n",
       "  </tbody>\n",
       "</table>\n",
       "<p>8 rows × 25 columns</p>\n",
       "</div>"
      ],
      "text/plain": [
       "             CO_ref       CO2_ref      NO2_ref       O3_ref  \\\n",
       "count  10020.000000  10351.000000  9333.000000  9417.000000   \n",
       "mean     275.193281    442.246188    10.969947    21.361927   \n",
       "std      242.184368     31.547392     7.485200     9.567744   \n",
       "min       76.933300    403.603000     0.038420     0.004304   \n",
       "25%      162.144500    425.745000     5.691300    15.228700   \n",
       "50%      194.040500    432.274000     8.811800    21.319100   \n",
       "75%      270.376750    442.687000    13.763700    27.685600   \n",
       "max     3003.950000    672.386000    44.994100    56.025400   \n",
       "\n",
       "       Alphasense_CO-B41#4  Alphasense_SO2-B4#4  Alphasense_NO2-B43F#4  \\\n",
       "count         10055.000000         10055.000000           10055.000000   \n",
       "mean           -201.604001             6.184139              12.543444   \n",
       "std             155.832491             8.463350               3.719455   \n",
       "min           -1827.400000           -66.236100              -4.000000   \n",
       "25%            -209.627500             3.205300              10.194200   \n",
       "50%            -146.983000             7.433330              12.472700   \n",
       "75%            -120.991500            11.500000              14.914550   \n",
       "max             -59.200000            23.781800              28.481500   \n",
       "\n",
       "       Alphasense_OX-B431#4         CO2#4           T#4  ...       CO2#16  \\\n",
       "count          10055.000000  10055.000000  10055.000000  ...  7894.000000   \n",
       "mean              22.459843    469.818142      6.015690  ...   547.683091   \n",
       "std                6.205154    155.642378      7.416733  ...   190.346266   \n",
       "min                3.370370      0.000000    -15.382100  ...     0.000000   \n",
       "25%               18.074100    424.618000      0.985365  ...   445.741000   \n",
       "50%               22.214300    463.750000      5.094640  ...   508.915500   \n",
       "75%               26.536100    510.339000     10.449050  ...   605.257750   \n",
       "max               47.234000   2001.000000     28.984900  ...  2001.000000   \n",
       "\n",
       "              T#16        RH#16  Alphasense_CO-B41#17  Alphasense_SO2-B4#17  \\\n",
       "count  7894.000000  7894.000000           7698.000000           7698.000000   \n",
       "mean      6.706984    65.249933           -160.667201             12.632805   \n",
       "std       7.551328     2.642663            113.951768              8.083833   \n",
       "min     -14.095800    57.047700          -1220.770000            -26.850000   \n",
       "25%       1.560000    63.718200           -172.936000              8.643633   \n",
       "50%       5.812200    65.400000           -121.800000             14.200000   \n",
       "75%      11.006450    67.100000            -98.883300             18.309100   \n",
       "max      28.382500    72.284500            -51.566700             33.816700   \n",
       "\n",
       "       Alphasense_NO2-B43F#17  Alphasense_OX-B431#17       CO2#17  \\\n",
       "count              7698.00000            7698.000000  7698.000000   \n",
       "mean                  9.78186              22.077238   463.238893   \n",
       "std                   3.44502               5.782194   144.277773   \n",
       "min                  -2.58621               6.543860     0.000000   \n",
       "25%                   7.60000              18.049200   427.641750   \n",
       "50%                   9.71667              21.605200   452.475000   \n",
       "75%                  11.86670              25.583300   488.677250   \n",
       "max                  25.85250              48.900000  2001.000000   \n",
       "\n",
       "              T#17        RH#17  \n",
       "count  7698.000000  7698.000000  \n",
       "mean      6.739780    71.297183  \n",
       "std       7.576898    10.577500  \n",
       "min     -14.665000    44.096700  \n",
       "25%       1.600000    63.496875  \n",
       "50%       5.838395    70.852200  \n",
       "75%      11.227075    79.791675  \n",
       "max      28.269100    95.513300  \n",
       "\n",
       "[8 rows x 25 columns]"
      ]
     },
     "execution_count": 4,
     "metadata": {},
     "output_type": "execute_result"
    }
   ],
   "source": [
    "# Stratify data.\n",
    "data_red = data[(data.index >= \"2016-10-10 00:00:00\")].dropna(axis=1, how=\"any\", thresh=0.66*sum(data.index >= \"2016-10-10 00:00:00\"))\n",
    "t_s = (pd.to_datetime(data_red.index)-pd.to_datetime(data_red.index[0])).values.astype(\"timedelta64[m]\") # time in minutes\n",
    "data_red.describe()"
   ]
  },
  {
   "cell_type": "code",
   "execution_count": 5,
   "metadata": {},
   "outputs": [
    {
     "data": {
      "image/png": "[encoded data removed]",
      "text/plain": [
       "<Figure size 212.4x212.4 with 2 Axes>"
      ]
     },
     "metadata": {
      "needs_background": "light"
     },
     "output_type": "display_data"
    }
   ],
   "source": [
    "# Draw overview plot.\n",
    "references = ['CO-ref', 'CO2-ref', 'NO2-ref', 'O3-ref']\n",
    "labels = references + [column[-1] for column in [column.split(\"_\", 1) for column in data_red.columns[4:]]]\n",
    "\n",
    "fig = plt.figure(figsize=(2.95, 2.95))\n",
    "axmatrix = fig.add_axes([0.0,0.0,0.70,0.70])\n",
    "im = axmatrix.matshow(scaler.fit_transform(data_red.values), aspect='auto', origin='upper', cmap=plt.cm.viridis)\n",
    "axmatrix.tick_params(axis=\"x\", bottom=False, top=True, labelbottom=False, labeltop=True)\n",
    "plt.xticks((np.arange(0, len(labels))), (labels), rotation=90)\n",
    "plt.yticks(np.linspace(0, data_red.shape[0], 5), np.round(15*np.linspace(0, data_red.shape[0], 5)/(60*24), 0).astype(\"int\"))\n",
    "plt.ylabel('time / days')\n",
    "\n",
    "bounds = np.linspace(0, 1, 6)\n",
    "axcolor = fig.add_axes([0.725,0.0,0.02,0.70])\n",
    "cbar = plt.colorbar(im, cax=axcolor, boundaries=bounds)\n",
    "cbar.set_label('normalized signal intensity', rotation=90, fontsize=6)\n",
    "cbar.ax.tick_params(labelsize=6) \n",
    "\n",
    "plt.savefig('./figures/time_traces',dpi=900,transparent=True,orientation='landscape',bbox_inches='tight')\n",
    "plt.show()"
   ]
  },
  {
   "cell_type": "markdown",
   "metadata": {},
   "source": [
    "# 2 Weeks of Calibration"
   ]
  },
  {
   "cell_type": "code",
   "execution_count": 6,
   "metadata": {},
   "outputs": [
    {
     "name": "stderr",
     "output_type": "stream",
     "text": [
      "/Users/gtancev/opt/anaconda3/lib/python3.7/site-packages/pandas/core/generic.py:6245: SettingWithCopyWarning: \n",
      "A value is trying to be set on a copy of a slice from a DataFrame\n",
      "\n",
      "See the caveats in the documentation: https://pandas.pydata.org/pandas-docs/stable/user_guide/indexing.html#returning-a-view-versus-a-copy\n",
      "  self._update_inplace(new_data)\n"
     ]
    }
   ],
   "source": [
    "# Slice data into training session and validation session.\n",
    "data_train = data_red[(data_red.index < \"2016-10-24 00:00:00\")]\n",
    "data_train.fillna(value=data_train.mean(axis=0), axis=0, inplace=True)\n",
    "data_val = data_red[(data_red.index >= \"2016-10-24 00:00:00\")]\n",
    "data_val.fillna(value=data_val.mean(axis=0), axis=0, inplace=True)"
   ]
  },
  {
   "cell_type": "markdown",
   "metadata": {},
   "source": [
    "## Device #4"
   ]
  },
  {
   "cell_type": "code",
   "execution_count": 7,
   "metadata": {},
   "outputs": [],
   "source": [
    "# Select traces.\n",
    "references_1 = ['CO_ref', 'NO2_ref', 'O3_ref']\n",
    "references_1_TRH = ['CO_ref', 'NO2_ref', 'O3_ref', 'T#4', 'RH#4']\n",
    "sensors_1 = ['Alphasense_CO-B41#4', 'Alphasense_NO2-B43F#4', 'Alphasense_OX-B431#4']\n",
    "\n",
    "# Create training sets.\n",
    "sensors_1_train = data_train[sensors_1]\n",
    "references_1_train = data_train[references_1]\n",
    "references_1_TRH_train = data_train[references_1_TRH]\n",
    "\n",
    "# Create validation sets.\n",
    "sensors_1_val = data_val[sensors_1]\n",
    "references_1_val = data_val[references_1]\n",
    "references_1_TRH_val = data_val[references_1_TRH]\n",
    "\n",
    "# Scaling data.\n",
    "sensor_training_1 = scaler.fit_transform(sensors_1_train.values)\n",
    "sensor_validation_1 = scaler.transform(sensors_1_val.values)\n",
    "references_training_1 = scaler.fit_transform(references_1_train.values)\n",
    "references_validation_1 = scaler.transform(references_1_val.values)"
   ]
  },
  {
   "cell_type": "markdown",
   "metadata": {},
   "source": [
    "### Sensor Data"
   ]
  },
  {
   "cell_type": "code",
   "execution_count": 7,
   "metadata": {},
   "outputs": [],
   "source": [
    "# Set amount of contamination.\n",
    "contamination = 0.01\n",
    "\n",
    "# Fit detectors.\n",
    "EE = EllipticEnvelope(contamination=contamination, random_state=0).fit(sensor_training_1)\n",
    "LOF = LocalOutlierFactor(n_neighbors=200, p=2, contamination=contamination, novelty=True, n_jobs=-1).fit(sensor_training_1)\n",
    "OCSVM = OneClassSVM(kernel=\"rbf\", gamma=\"auto\", nu=contamination).fit(sensor_training_1)\n",
    "IF = IsolationForest(n_estimators=100, bootstrap=True, contamination=contamination, random_state=0, n_jobs=-1).fit(sensor_training_1)"
   ]
  },
  {
   "cell_type": "code",
   "execution_count": 9,
   "metadata": {},
   "outputs": [
    {
     "data": {
      "image/png": "[encoded data removed]",
      "text/plain": [
       "<Figure size 212.4x106.2 with 1 Axes>"
      ]
     },
     "metadata": {
      "needs_background": "light"
     },
     "output_type": "display_data"
    }
   ],
   "source": [
    "# Fraction of outliers.\n",
    "fig = plt.figure(figsize=(2.95,0.5*2.95))\n",
    "ax = fig.add_subplot(111)\n",
    "plt.title(r\"$\\nu$ = \"+str(contamination))\n",
    "ax.plot(np.round(15*np.linspace(0, sensors_1_val.shape[0], sensors_1_val.shape[0])/(60*24), 0).astype(\"int\"), \n",
    "        moving_average((EE.predict(sensor_validation_1)-1)/-2, w), color=plt.cm.viridis(0.0), label=\"RC\")\n",
    "ax.plot(np.round(15*np.linspace(0, sensors_1_val.shape[0], sensors_1_val.shape[0])/(60*24), 0).astype(\"int\"), \n",
    "        moving_average((LOF.predict(sensor_validation_1)-1)/-2, w), color=plt.cm.viridis(0.25), label=\"LOF\")\n",
    "ax.plot(np.round(15*np.linspace(0, sensors_1_val.shape[0], sensors_1_val.shape[0])/(60*24), 0).astype(\"int\"), \n",
    "        moving_average((OCSVM.predict(sensor_validation_1)-1)/-2, w), color=plt.cm.viridis(0.50), label=\"OCSVM\")\n",
    "ax.plot(np.round(15*np.linspace(0, sensors_1_val.shape[0], sensors_1_val.shape[0])/(60*24), 0).astype(\"int\"), \n",
    "        moving_average((IF.predict(sensor_validation_1)-1)/-2, w), color=plt.cm.viridis(0.75), label=\"IF\")\n",
    "ax.set_xlim((0, 120))\n",
    "ax.set_ylim((0, 1))\n",
    "ax.set_yticks(np.linspace(0, 1, 6))\n",
    "ax.set_xlabel('time / days')\n",
    "ax.set_ylabel('average fraction of anomalies')\n",
    "ax.legend(frameon=False, loc=2)\n",
    "plt.savefig('./figures/device_1/2_weeks/sensors_nu_001_fraction',dpi=900,transparent=True,orientation='landscape',bbox_inches='tight')\n",
    "plt.show()"
   ]
  },
  {
   "cell_type": "code",
   "execution_count": 10,
   "metadata": {},
   "outputs": [],
   "source": [
    "# Set amount of contamination.\n",
    "contamination = 0.05\n",
    "\n",
    "# Fit detectors.\n",
    "EE = EllipticEnvelope(contamination=contamination, random_state=0).fit(sensor_training_1)\n",
    "LOF = LocalOutlierFactor(n_neighbors=200, p=2, contamination=contamination, novelty=True, n_jobs=-1).fit(sensor_training_1)\n",
    "OCSVM = OneClassSVM(kernel=\"rbf\", gamma=\"auto\", nu=contamination).fit(sensor_training_1)\n",
    "IF = IsolationForest(n_estimators=100, bootstrap=True, contamination=contamination, random_state=0, n_jobs=-1).fit(sensor_training_1)"
   ]
  },
  {
   "cell_type": "code",
   "execution_count": 15,
   "metadata": {},
   "outputs": [
    {
     "data": {
      "image/png": "[encoded data removed]",
      "text/plain": [
       "<Figure size 212.4x106.2 with 1 Axes>"
      ]
     },
     "metadata": {
      "needs_background": "light"
     },
     "output_type": "display_data"
    }
   ],
   "source": [
    "# Fraction of outliers.\n",
    "fig = plt.figure(figsize=(2.95,0.5*2.95))\n",
    "ax = fig.add_subplot(111)\n",
    "plt.title(r\"$\\nu$ = \"+str(contamination))\n",
    "ax.plot(np.round(15*np.linspace(0, sensors_1_val.shape[0], sensors_1_val.shape[0])/(60*24), 0).astype(\"int\"), \n",
    "        moving_average((EE.predict(sensor_validation_1)-1)/-2, w), color=plt.cm.viridis(0.0), label=\"RC\")\n",
    "ax.plot(np.round(15*np.linspace(0, sensors_1_val.shape[0], sensors_1_val.shape[0])/(60*24), 0).astype(\"int\"), \n",
    "        moving_average((LOF.predict(sensor_validation_1)-1)/-2, w), color=plt.cm.viridis(0.25), label=\"LOF\")\n",
    "ax.plot(np.round(15*np.linspace(0, sensors_1_val.shape[0], sensors_1_val.shape[0])/(60*24), 0).astype(\"int\"), \n",
    "        moving_average((OCSVM.predict(sensor_validation_1)-1)/-2, w), color=plt.cm.viridis(0.50), label=\"OCSVM\")\n",
    "ax.plot(np.round(15*np.linspace(0, sensors_1_val.shape[0], sensors_1_val.shape[0])/(60*24), 0).astype(\"int\"), \n",
    "        moving_average((IF.predict(sensor_validation_1)-1)/-2, w), color=plt.cm.viridis(0.75), label=\"IF\")\n",
    "ax.set_xlim((0, 120))\n",
    "ax.set_ylim((0, 1))\n",
    "ax.set_yticks(np.linspace(0, 1, 6))\n",
    "ax.set_xlabel('time / days')\n",
    "ax.set_ylabel('average fraction of anomalies')\n",
    "#ax.legend(frameon=False, loc=2)\n",
    "plt.savefig('./figures/device_1/2_weeks/sensors_nu_005_fraction',dpi=900,transparent=True,orientation='landscape',bbox_inches='tight')\n",
    "plt.show()"
   ]
  },
  {
   "cell_type": "code",
   "execution_count": 13,
   "metadata": {},
   "outputs": [],
   "source": [
    "# Set amount of contamination.\n",
    "contamination = 0.10\n",
    "\n",
    "# Fit detectors.\n",
    "EE = EllipticEnvelope(contamination=contamination, random_state=0).fit(sensor_training_1)\n",
    "LOF = LocalOutlierFactor(n_neighbors=200, p=2, contamination=contamination, novelty=True, n_jobs=-1).fit(sensor_training_1)\n",
    "OCSVM = OneClassSVM(kernel=\"rbf\", gamma=\"auto\", nu=contamination).fit(sensor_training_1)\n",
    "IF = IsolationForest(n_estimators=100, bootstrap=True, contamination=contamination, random_state=0, n_jobs=-1).fit(sensor_training_1)"
   ]
  },
  {
   "cell_type": "code",
   "execution_count": 16,
   "metadata": {},
   "outputs": [
    {
     "data": {
      "image/png": "[encoded data removed]",
      "text/plain": [
       "<Figure size 212.4x106.2 with 1 Axes>"
      ]
     },
     "metadata": {
      "needs_background": "light"
     },
     "output_type": "display_data"
    }
   ],
   "source": [
    "# Fraction of outliers.\n",
    "fig = plt.figure(figsize=(2.95,0.5*2.95))\n",
    "ax = fig.add_subplot(111)\n",
    "plt.title(r\"$\\nu$ = 0.10\")\n",
    "ax.plot(np.round(15*np.linspace(0, sensors_1_val.shape[0], sensors_1_val.shape[0])/(60*24), 0).astype(\"int\"), \n",
    "        moving_average((EE.predict(sensor_validation_1)-1)/-2, w), color=plt.cm.viridis(0.0), label=\"RC\")\n",
    "ax.plot(np.round(15*np.linspace(0, sensors_1_val.shape[0], sensors_1_val.shape[0])/(60*24), 0).astype(\"int\"), \n",
    "        moving_average((LOF.predict(sensor_validation_1)-1)/-2, w), color=plt.cm.viridis(0.25), label=\"LOF\")\n",
    "ax.plot(np.round(15*np.linspace(0, sensors_1_val.shape[0], sensors_1_val.shape[0])/(60*24), 0).astype(\"int\"), \n",
    "        moving_average((OCSVM.predict(sensor_validation_1)-1)/-2, w), color=plt.cm.viridis(0.50), label=\"OCSVM\")\n",
    "ax.plot(np.round(15*np.linspace(0, sensors_1_val.shape[0], sensors_1_val.shape[0])/(60*24), 0).astype(\"int\"), \n",
    "        moving_average((IF.predict(sensor_validation_1)-1)/-2, w), color=plt.cm.viridis(0.75), label=\"IF\")\n",
    "ax.set_xlim((0, 120))\n",
    "ax.set_ylim((0, 1))\n",
    "ax.set_yticks(np.linspace(0, 1, 6))\n",
    "ax.set_xlabel('time / days')\n",
    "ax.set_ylabel('average fraction of anomalies')\n",
    "# ax.legend(frameon=False, loc=2)\n",
    "plt.savefig('./figures/device_1/2_weeks/sensors_nu_010_fraction',dpi=900,transparent=True,orientation='landscape',bbox_inches='tight')\n",
    "plt.show()"
   ]
  },
  {
   "cell_type": "markdown",
   "metadata": {},
   "source": [
    "### Reference Data"
   ]
  },
  {
   "cell_type": "code",
   "execution_count": 17,
   "metadata": {},
   "outputs": [],
   "source": [
    "# Set amount of contamination.\n",
    "contamination = 0.01\n",
    "\n",
    "# Fit detectors.\n",
    "EE = EllipticEnvelope(contamination=contamination, random_state=0).fit(references_training_1)\n",
    "LOF = LocalOutlierFactor(n_neighbors=200, p=2, contamination=contamination, novelty=True, n_jobs=-1).fit(references_training_1)\n",
    "OCSVM = OneClassSVM(kernel=\"rbf\", gamma=\"auto\", nu=contamination).fit(references_training_1)\n",
    "IF = IsolationForest(n_estimators=100, bootstrap=True, contamination=contamination, random_state=0, n_jobs=-1).fit(references_training_1)"
   ]
  },
  {
   "cell_type": "code",
   "execution_count": 18,
   "metadata": {},
   "outputs": [
    {
     "data": {
      "image/png": "[encoded data removed]",
      "text/plain": [
       "<Figure size 212.4x106.2 with 1 Axes>"
      ]
     },
     "metadata": {
      "needs_background": "light"
     },
     "output_type": "display_data"
    }
   ],
   "source": [
    "# Fraction of outliers.\n",
    "fig = plt.figure(figsize=(2.95,0.5*2.95))\n",
    "ax = fig.add_subplot(111)\n",
    "plt.title(r\"$\\nu$ = \"+str(contamination))\n",
    "ax.plot(np.round(15*np.linspace(0, sensors_1_val.shape[0], sensors_1_val.shape[0])/(60*24), 0).astype(\"int\"), \n",
    "        moving_average((EE.predict(references_validation_1)-1)/-2, w), color=plt.cm.viridis(0.0), label=\"RC\")\n",
    "ax.plot(np.round(15*np.linspace(0, sensors_1_val.shape[0], sensors_1_val.shape[0])/(60*24), 0).astype(\"int\"), \n",
    "        moving_average((LOF.predict(references_validation_1)-1)/-2, w), color=plt.cm.viridis(0.25), label=\"LOF\")\n",
    "ax.plot(np.round(15*np.linspace(0, sensors_1_val.shape[0], sensors_1_val.shape[0])/(60*24), 0).astype(\"int\"), \n",
    "        moving_average((OCSVM.predict(references_validation_1)-1)/-2, w), color=plt.cm.viridis(0.50), label=\"OCSVM\")\n",
    "ax.plot(np.round(15*np.linspace(0, sensors_1_val.shape[0], sensors_1_val.shape[0])/(60*24), 0).astype(\"int\"), \n",
    "        moving_average((IF.predict(references_validation_1)-1)/-2, w), color=plt.cm.viridis(0.75), label=\"IF\")\n",
    "ax.set_xlim((0, 120))\n",
    "ax.set_ylim((0, 1))\n",
    "ax.set_yticks(np.linspace(0, 1, 6))\n",
    "ax.set_xlabel('time / days')\n",
    "ax.set_ylabel('average fraction of anomalies')\n",
    "# ax.legend(frameon=False, loc=2)\n",
    "plt.savefig('./figures/device_1/2_weeks/references_nu_001_fraction',dpi=900,transparent=True,orientation='landscape',bbox_inches='tight')\n",
    "plt.show()"
   ]
  },
  {
   "cell_type": "code",
   "execution_count": 19,
   "metadata": {},
   "outputs": [],
   "source": [
    "# Set amount of contamination.\n",
    "contamination = 0.05\n",
    "\n",
    "# Fit detectors.\n",
    "EE = EllipticEnvelope(contamination=contamination, random_state=0).fit(references_training_1)\n",
    "LOF = LocalOutlierFactor(n_neighbors=200, p=2, contamination=contamination, novelty=True, n_jobs=-1).fit(references_training_1)\n",
    "OCSVM = OneClassSVM(kernel=\"rbf\", gamma=\"auto\", nu=contamination).fit(references_training_1)\n",
    "IF = IsolationForest(n_estimators=100, bootstrap=True, contamination=contamination, random_state=0, n_jobs=-1).fit(references_training_1)"
   ]
  },
  {
   "cell_type": "code",
   "execution_count": 20,
   "metadata": {},
   "outputs": [
    {
     "data": {
      "image/png": "[encoded data removed]",
      "text/plain": [
       "<Figure size 212.4x106.2 with 1 Axes>"
      ]
     },
     "metadata": {
      "needs_background": "light"
     },
     "output_type": "display_data"
    }
   ],
   "source": [
    "# Fraction of outliers.\n",
    "fig = plt.figure(figsize=(2.95,0.5*2.95))\n",
    "ax = fig.add_subplot(111)\n",
    "plt.title(r\"$\\nu$ = \"+str(contamination))\n",
    "ax.plot(np.round(15*np.linspace(0, sensors_1_val.shape[0], sensors_1_val.shape[0])/(60*24), 0).astype(\"int\"), \n",
    "        moving_average((EE.predict(references_validation_1)-1)/-2, w), color=plt.cm.viridis(0.0), label=\"RC\")\n",
    "ax.plot(np.round(15*np.linspace(0, sensors_1_val.shape[0], sensors_1_val.shape[0])/(60*24), 0).astype(\"int\"), \n",
    "        moving_average((LOF.predict(references_validation_1)-1)/-2, w), color=plt.cm.viridis(0.25), label=\"LOF\")\n",
    "ax.plot(np.round(15*np.linspace(0, sensors_1_val.shape[0], sensors_1_val.shape[0])/(60*24), 0).astype(\"int\"), \n",
    "        moving_average((OCSVM.predict(references_validation_1)-1)/-2, w), color=plt.cm.viridis(0.50), label=\"OCSVM\")\n",
    "ax.plot(np.round(15*np.linspace(0, sensors_1_val.shape[0], sensors_1_val.shape[0])/(60*24), 0).astype(\"int\"), \n",
    "        moving_average((IF.predict(references_validation_1)-1)/-2, w), color=plt.cm.viridis(0.75), label=\"IF\")\n",
    "ax.set_xlim((0, 120))\n",
    "ax.set_ylim((0, 1))\n",
    "ax.set_yticks(np.linspace(0, 1, 6))\n",
    "ax.set_xlabel('time / days')\n",
    "ax.set_ylabel('average fraction of anomalies')\n",
    "# ax.legend(frameon=False, loc=2)\n",
    "plt.savefig('./figures/device_1/2_weeks/references_nu_005_fraction',dpi=900,transparent=True,orientation='landscape',bbox_inches='tight')\n",
    "plt.show()"
   ]
  },
  {
   "cell_type": "code",
   "execution_count": 8,
   "metadata": {},
   "outputs": [],
   "source": [
    "# Set amount of contamination.\n",
    "contamination = 0.10\n",
    "\n",
    "# Fit detectors.\n",
    "EE = EllipticEnvelope(contamination=contamination, random_state=0).fit(references_training_1)\n",
    "LOF = LocalOutlierFactor(n_neighbors=200, p=2, contamination=contamination, novelty=True, n_jobs=-1).fit(references_training_1)\n",
    "OCSVM = OneClassSVM(kernel=\"rbf\", gamma=\"auto\", nu=contamination).fit(references_training_1)\n",
    "IF = IsolationForest(n_estimators=100, bootstrap=True, contamination=contamination, random_state=0, n_jobs=-1).fit(references_training_1)"
   ]
  },
  {
   "cell_type": "code",
   "execution_count": 22,
   "metadata": {},
   "outputs": [
    {
     "data": {
      "image/png": "[encoded data removed]",
      "text/plain": [
       "<Figure size 212.4x106.2 with 1 Axes>"
      ]
     },
     "metadata": {
      "needs_background": "light"
     },
     "output_type": "display_data"
    }
   ],
   "source": [
    "# Fraction of outliers.\n",
    "fig = plt.figure(figsize=(2.95,0.5*2.95))\n",
    "ax = fig.add_subplot(111)\n",
    "plt.title(r\"$\\nu$ = 0.10\")\n",
    "ax.plot(np.round(15*np.linspace(0, sensors_1_val.shape[0], sensors_1_val.shape[0])/(60*24), 0).astype(\"int\"), \n",
    "        moving_average((EE.predict(references_validation_1)-1)/-2, w), color=plt.cm.viridis(0.0), label=\"RC\")\n",
    "ax.plot(np.round(15*np.linspace(0, sensors_1_val.shape[0], sensors_1_val.shape[0])/(60*24), 0).astype(\"int\"), \n",
    "        moving_average((LOF.predict(references_validation_1)-1)/-2, w), color=plt.cm.viridis(0.25), label=\"LOF\")\n",
    "ax.plot(np.round(15*np.linspace(0, sensors_1_val.shape[0], sensors_1_val.shape[0])/(60*24), 0).astype(\"int\"), \n",
    "        moving_average((OCSVM.predict(references_validation_1)-1)/-2, w), color=plt.cm.viridis(0.50), label=\"OCSVM\")\n",
    "ax.plot(np.round(15*np.linspace(0, sensors_1_val.shape[0], sensors_1_val.shape[0])/(60*24), 0).astype(\"int\"), \n",
    "        moving_average((IF.predict(references_validation_1)-1)/-2, w), color=plt.cm.viridis(0.75), label=\"IF\")\n",
    "ax.set_xlim((0, 120))\n",
    "ax.set_ylim((0, 1))\n",
    "ax.set_yticks(np.linspace(0, 1, 6))\n",
    "ax.set_xlabel('time / days')\n",
    "ax.set_ylabel('average fraction of anomalies')\n",
    "# ax.legend(frameon=False, loc=2)\n",
    "plt.savefig('./figures/device_1/2_weeks/references_nu_010_fraction',dpi=900,transparent=True,orientation='landscape',bbox_inches='tight')\n",
    "plt.show()"
   ]
  },
  {
   "cell_type": "code",
   "execution_count": 78,
   "metadata": {},
   "outputs": [
    {
     "data": {
      "image/png": "[encoded data removed]",
      "text/plain": [
       "<Figure size 212.4x212.4 with 1 Axes>"
      ]
     },
     "metadata": {
      "needs_background": "light"
     },
     "output_type": "display_data"
    }
   ],
   "source": [
    "X_t = data_train[references_1].values[((LOF.predict(references_training_1)-1)/-2)==0, :] # regular calibration data\n",
    "X_v = data_val[references_1].values[((LOF.predict(references_validation_1)-1)/-2)==1, :] # anomalous monitoring data\n",
    "\n",
    "# np.quantile(X_v[:, 0], q=[0.01,0.05,0.25,0.5,0.75,0.95,0.99])\n",
    "# np.quantile(X_t[:, 0], q=[0.01,0.05,0.25,0.5,0.75,0.95,0.99])\n",
    "\n",
    "dim_red = PCA(n_components=2, whiten=True)\n",
    "Y_t = dim_red.fit_transform(X_t)\n",
    "Y_v = dim_red.transform(X_v)\n",
    "\n",
    "fig = plt.figure(figsize=(2.95,2.95))\n",
    "ax = fig.add_subplot(111)\n",
    "ax.scatter(Y_v[:, 0], Y_v[:, 1], color=plt.cm.viridis(0.50), s=6, edgecolor=plt.cm.viridis(0.50), alpha=1.0, label=\"anomalies\")\n",
    "ax.scatter(Y_t[:, 0], Y_t[:, 1], color=plt.cm.viridis(0.25), s=6, edgecolor=plt.cm.viridis(0.25), alpha=1.0, label=\"calibration\")\n",
    "plt.xlim(-2.0, 31)\n",
    "plt.ylim(-4.0, 10)\n",
    "plt.xticks(np.linspace(-2.0, 31, 6))\n",
    "plt.yticks(np.linspace(-4, 10, 6))\n",
    "plt.xlabel('first principal component')\n",
    "plt.ylabel('second principal component')\n",
    "plt.legend(frameon=False, loc=2)\n",
    "plt.savefig('./figures/references_signal_distributions_PCA',dpi=900,transparent=True,orientation='landscape',bbox_inches='tight')\n",
    "plt.show()"
   ]
  },
  {
   "cell_type": "markdown",
   "metadata": {},
   "source": [
    "## Device #16"
   ]
  },
  {
   "cell_type": "code",
   "execution_count": 23,
   "metadata": {},
   "outputs": [],
   "source": [
    "# Select traces.\n",
    "sensors_2 = ['Alphasense_CO-B41#16', 'Alphasense_NO2-B43F#16', 'Alphasense_OX-B431#16']\n",
    "\n",
    "# Create training sets.\n",
    "sensors_2_train = data_train[sensors_2]\n",
    "\n",
    "# Create validation sets.\n",
    "sensors_2_val = data_val[sensors_2]\n",
    "\n",
    "# Scaling data.\n",
    "sensor_training_2 = scaler.fit_transform(sensors_2_train.values)\n",
    "sensor_validation_2 = scaler.transform(sensors_2_val.values)"
   ]
  },
  {
   "cell_type": "code",
   "execution_count": 24,
   "metadata": {},
   "outputs": [],
   "source": [
    "# Set amount of contamination.\n",
    "contamination = 0.01\n",
    "\n",
    "# Fit detectors.\n",
    "EE = EllipticEnvelope(contamination=contamination, random_state=0).fit(sensor_training_2)\n",
    "LOF = LocalOutlierFactor(n_neighbors=200, p=2, contamination=contamination, novelty=True, n_jobs=-1).fit(sensor_training_2)\n",
    "OCSVM = OneClassSVM(kernel=\"rbf\", gamma=\"auto\", nu=contamination).fit(sensor_training_2)\n",
    "IF = IsolationForest(n_estimators=100, bootstrap=True, contamination=contamination, random_state=0, n_jobs=-1).fit(sensor_training_2)"
   ]
  },
  {
   "cell_type": "code",
   "execution_count": 25,
   "metadata": {},
   "outputs": [
    {
     "data": {
      "image/png": "[encoded data removed]",
      "text/plain": [
       "<Figure size 212.4x106.2 with 1 Axes>"
      ]
     },
     "metadata": {
      "needs_background": "light"
     },
     "output_type": "display_data"
    }
   ],
   "source": [
    "# Fraction of outliers.\n",
    "fig = plt.figure(figsize=(2.95,0.5*2.95))\n",
    "ax = fig.add_subplot(111)\n",
    "plt.title(r\"$\\nu$ = \"+str(contamination))\n",
    "ax.plot(np.round(15*np.linspace(0, sensors_2_val.shape[0], sensors_2_val.shape[0])/(60*24), 0).astype(\"int\"), \n",
    "        moving_average((EE.predict(sensor_validation_2)-1)/-2, w), color=plt.cm.viridis(0.0), label=\"RC\")\n",
    "ax.plot(np.round(15*np.linspace(0, sensors_2_val.shape[0], sensors_2_val.shape[0])/(60*24), 0).astype(\"int\"), \n",
    "        moving_average((LOF.predict(sensor_validation_2)-1)/-2, w), color=plt.cm.viridis(0.25), label=\"LOF\")\n",
    "ax.plot(np.round(15*np.linspace(0, sensors_2_val.shape[0], sensors_2_val.shape[0])/(60*24), 0).astype(\"int\"), \n",
    "        moving_average((OCSVM.predict(sensor_validation_2)-1)/-2, w), color=plt.cm.viridis(0.50), label=\"OCSVM\")\n",
    "ax.plot(np.round(15*np.linspace(0, sensors_2_val.shape[0], sensors_2_val.shape[0])/(60*24), 0).astype(\"int\"), \n",
    "        moving_average((IF.predict(sensor_validation_2)-1)/-2, w), color=plt.cm.viridis(0.75), label=\"IF\")\n",
    "ax.set_xlim((0, 120))\n",
    "ax.set_ylim((0, 1))\n",
    "ax.set_yticks(np.linspace(0, 1, 6))\n",
    "ax.set_xlabel('time / days')\n",
    "ax.set_ylabel('average fraction of anomalies')\n",
    "ax.legend(frameon=False, loc=2)\n",
    "plt.savefig('./figures/device_2/2_weeks/sensors_nu_001_fraction',dpi=900,transparent=True,orientation='landscape',bbox_inches='tight')\n",
    "plt.show()"
   ]
  },
  {
   "cell_type": "code",
   "execution_count": 27,
   "metadata": {},
   "outputs": [],
   "source": [
    "# Set amount of contamination.\n",
    "contamination = 0.05\n",
    "\n",
    "# Fit detectors.\n",
    "EE = EllipticEnvelope(contamination=contamination, random_state=0).fit(sensor_training_2)\n",
    "LOF = LocalOutlierFactor(n_neighbors=200, p=2, contamination=contamination, novelty=True, n_jobs=-1).fit(sensor_training_2)\n",
    "OCSVM = OneClassSVM(kernel=\"rbf\", gamma=\"auto\", nu=contamination).fit(sensor_training_2)\n",
    "IF = IsolationForest(n_estimators=100, bootstrap=True, contamination=contamination, random_state=0, n_jobs=-1).fit(sensor_training_2)"
   ]
  },
  {
   "cell_type": "code",
   "execution_count": 28,
   "metadata": {},
   "outputs": [
    {
     "data": {
      "image/png": "[encoded data removed]",
      "text/plain": [
       "<Figure size 212.4x106.2 with 1 Axes>"
      ]
     },
     "metadata": {
      "needs_background": "light"
     },
     "output_type": "display_data"
    }
   ],
   "source": [
    "# Fraction of outliers.\n",
    "fig = plt.figure(figsize=(2.95,0.5*2.95))\n",
    "ax = fig.add_subplot(111)\n",
    "plt.title(r\"$\\nu$ = \"+str(contamination))\n",
    "ax.plot(np.round(15*np.linspace(0, sensors_2_val.shape[0], sensors_2_val.shape[0])/(60*24), 0).astype(\"int\"), \n",
    "        moving_average((EE.predict(sensor_validation_2)-1)/-2, w), color=plt.cm.viridis(0.0), label=\"RC\")\n",
    "ax.plot(np.round(15*np.linspace(0, sensors_2_val.shape[0], sensors_2_val.shape[0])/(60*24), 0).astype(\"int\"), \n",
    "        moving_average((LOF.predict(sensor_validation_2)-1)/-2, w), color=plt.cm.viridis(0.25), label=\"LOF\")\n",
    "ax.plot(np.round(15*np.linspace(0, sensors_2_val.shape[0], sensors_2_val.shape[0])/(60*24), 0).astype(\"int\"), \n",
    "        moving_average((OCSVM.predict(sensor_validation_2)-1)/-2, w), color=plt.cm.viridis(0.50), label=\"OCSVM\")\n",
    "ax.plot(np.round(15*np.linspace(0, sensors_2_val.shape[0], sensors_2_val.shape[0])/(60*24), 0).astype(\"int\"), \n",
    "        moving_average((IF.predict(sensor_validation_2)-1)/-2, w), color=plt.cm.viridis(0.75), label=\"IF\")\n",
    "ax.set_xlim((0, 120))\n",
    "ax.set_ylim((0, 1))\n",
    "ax.set_yticks(np.linspace(0, 1, 6))\n",
    "ax.set_xlabel('time / days')\n",
    "ax.set_ylabel('average fraction of anomalies')\n",
    "# ax.legend(frameon=False, loc=2)\n",
    "plt.savefig('./figures/device_2/2_weeks/sensors_nu_005_fraction',dpi=900,transparent=True,orientation='landscape',bbox_inches='tight')\n",
    "plt.show()"
   ]
  },
  {
   "cell_type": "code",
   "execution_count": 29,
   "metadata": {},
   "outputs": [],
   "source": [
    "# Set amount of contamination.\n",
    "contamination = 0.10\n",
    "\n",
    "# Fit detectors.\n",
    "EE = EllipticEnvelope(contamination=contamination, random_state=0).fit(sensor_training_2)\n",
    "LOF = LocalOutlierFactor(n_neighbors=200, p=2, contamination=contamination, novelty=True, n_jobs=-1).fit(sensor_training_2)\n",
    "OCSVM = OneClassSVM(kernel=\"rbf\", gamma=\"auto\", nu=contamination).fit(sensor_training_2)\n",
    "IF = IsolationForest(n_estimators=100, bootstrap=True, contamination=contamination, random_state=0, n_jobs=-1).fit(sensor_training_2)"
   ]
  },
  {
   "cell_type": "code",
   "execution_count": 30,
   "metadata": {},
   "outputs": [
    {
     "data": {
      "image/png": "[encoded data removed]",
      "text/plain": [
       "<Figure size 212.4x106.2 with 1 Axes>"
      ]
     },
     "metadata": {
      "needs_background": "light"
     },
     "output_type": "display_data"
    }
   ],
   "source": [
    "# Fraction of outliers.\n",
    "fig = plt.figure(figsize=(2.95,0.5*2.95))\n",
    "ax = fig.add_subplot(111)\n",
    "plt.title(r\"$\\nu$ = 0.10\")\n",
    "ax.plot(np.round(15*np.linspace(0, sensors_2_val.shape[0], sensors_2_val.shape[0])/(60*24), 0).astype(\"int\"), \n",
    "        moving_average((EE.predict(sensor_validation_2)-1)/-2, w), color=plt.cm.viridis(0.0), label=\"RC\")\n",
    "ax.plot(np.round(15*np.linspace(0, sensors_2_val.shape[0], sensors_2_val.shape[0])/(60*24), 0).astype(\"int\"), \n",
    "        moving_average((LOF.predict(sensor_validation_2)-1)/-2, w), color=plt.cm.viridis(0.25), label=\"LOF\")\n",
    "ax.plot(np.round(15*np.linspace(0, sensors_2_val.shape[0], sensors_2_val.shape[0])/(60*24), 0).astype(\"int\"), \n",
    "        moving_average((OCSVM.predict(sensor_validation_2)-1)/-2, w), color=plt.cm.viridis(0.50), label=\"OCSVM\")\n",
    "ax.plot(np.round(15*np.linspace(0, sensors_2_val.shape[0], sensors_2_val.shape[0])/(60*24), 0).astype(\"int\"), \n",
    "        moving_average((IF.predict(sensor_validation_2)-1)/-2, w), color=plt.cm.viridis(0.75), label=\"IF\")\n",
    "ax.set_xlim((0, 120))\n",
    "ax.set_ylim((0, 1))\n",
    "ax.set_yticks(np.linspace(0, 1, 6))\n",
    "ax.set_xlabel('time / days')\n",
    "ax.set_ylabel('average fraction of anomalies')\n",
    "# ax.legend(frameon=False, loc=2)\n",
    "plt.savefig('./figures/device_2/2_weeks/sensors_nu_010_fraction',dpi=900,transparent=True,orientation='landscape',bbox_inches='tight')\n",
    "plt.show()"
   ]
  },
  {
   "cell_type": "markdown",
   "metadata": {},
   "source": [
    "## Device #17"
   ]
  },
  {
   "cell_type": "code",
   "execution_count": 31,
   "metadata": {},
   "outputs": [],
   "source": [
    "# Select traces.\n",
    "sensors_3 = ['Alphasense_CO-B41#17', 'Alphasense_NO2-B43F#17', 'Alphasense_OX-B431#17']\n",
    "\n",
    "# Create training sets.\n",
    "sensors_3_train = data_train[sensors_3]\n",
    "\n",
    "# Create validation sets.\n",
    "sensors_3_val = data_val[sensors_3]\n",
    "\n",
    "# Scaling data.\n",
    "sensor_training_3 = scaler.fit_transform(sensors_3_train.values)\n",
    "sensor_validation_3 = scaler.transform(sensors_3_val.values)"
   ]
  },
  {
   "cell_type": "code",
   "execution_count": 32,
   "metadata": {},
   "outputs": [],
   "source": [
    "# Set amount of contamination.\n",
    "contamination = 0.01\n",
    "\n",
    "# Fit detectors.\n",
    "EE = EllipticEnvelope(contamination=contamination, random_state=0).fit(sensor_training_3)\n",
    "LOF = LocalOutlierFactor(n_neighbors=200, p=2, contamination=contamination, novelty=True, n_jobs=-1).fit(sensor_training_3)\n",
    "OCSVM = OneClassSVM(kernel=\"rbf\", gamma=\"auto\", nu=contamination).fit(sensor_training_3)\n",
    "IF = IsolationForest(n_estimators=100, bootstrap=True, contamination=contamination, random_state=0, n_jobs=-1).fit(sensor_training_3)"
   ]
  },
  {
   "cell_type": "code",
   "execution_count": 33,
   "metadata": {},
   "outputs": [
    {
     "data": {
      "image/png": "[encoded data removed]",
      "text/plain": [
       "<Figure size 212.4x106.2 with 1 Axes>"
      ]
     },
     "metadata": {
      "needs_background": "light"
     },
     "output_type": "display_data"
    }
   ],
   "source": [
    "# Fraction of outliers.\n",
    "fig = plt.figure(figsize=(2.95,0.5*2.95))\n",
    "ax = fig.add_subplot(111)\n",
    "plt.title(r\"$\\nu$ = \"+str(contamination))\n",
    "ax.plot(np.round(15*np.linspace(0, sensors_3_val.shape[0], sensors_3_val.shape[0])/(60*24), 0).astype(\"int\"), \n",
    "        moving_average((EE.predict(sensor_validation_3)-1)/-2, w), color=plt.cm.viridis(0.0), label=\"RC\")\n",
    "ax.plot(np.round(15*np.linspace(0, sensors_3_val.shape[0], sensors_3_val.shape[0])/(60*24), 0).astype(\"int\"), \n",
    "        moving_average((LOF.predict(sensor_validation_3)-1)/-2, w), color=plt.cm.viridis(0.25), label=\"LOF\")\n",
    "ax.plot(np.round(15*np.linspace(0, sensors_3_val.shape[0], sensors_3_val.shape[0])/(60*24), 0).astype(\"int\"), \n",
    "        moving_average((OCSVM.predict(sensor_validation_3)-1)/-2, w), color=plt.cm.viridis(0.50), label=\"OCSVM\")\n",
    "ax.plot(np.round(15*np.linspace(0, sensors_3_val.shape[0], sensors_3_val.shape[0])/(60*24), 0).astype(\"int\"), \n",
    "        moving_average((IF.predict(sensor_validation_3)-1)/-2, w), color=plt.cm.viridis(0.75), label=\"IF\")\n",
    "ax.set_xlim((0, 120))\n",
    "ax.set_ylim((0, 1))\n",
    "ax.set_yticks(np.linspace(0, 1, 6))\n",
    "ax.set_xlabel('time / days')\n",
    "ax.set_ylabel('average fraction of anomalies')\n",
    "# ax.legend(frameon=False, loc=2)\n",
    "plt.savefig('./figures/device_3/2_weeks/sensors_nu_001_fraction',dpi=900,transparent=True,orientation='landscape',bbox_inches='tight')\n",
    "plt.show()"
   ]
  },
  {
   "cell_type": "code",
   "execution_count": 34,
   "metadata": {},
   "outputs": [],
   "source": [
    "# Set amount of contamination.\n",
    "contamination = 0.05\n",
    "\n",
    "# Fit detectors.\n",
    "EE = EllipticEnvelope(contamination=contamination, random_state=0).fit(sensor_training_3)\n",
    "LOF = LocalOutlierFactor(n_neighbors=200, p=2, contamination=contamination, novelty=True, n_jobs=-1).fit(sensor_training_3)\n",
    "OCSVM = OneClassSVM(kernel=\"rbf\", gamma=\"auto\", nu=contamination).fit(sensor_training_3)\n",
    "IF = IsolationForest(n_estimators=100, bootstrap=True, contamination=contamination, random_state=0, n_jobs=-1).fit(sensor_training_3)"
   ]
  },
  {
   "cell_type": "code",
   "execution_count": 36,
   "metadata": {},
   "outputs": [
    {
     "data": {
      "image/png": "[encoded data removed]",
      "text/plain": [
       "<Figure size 212.4x106.2 with 1 Axes>"
      ]
     },
     "metadata": {
      "needs_background": "light"
     },
     "output_type": "display_data"
    }
   ],
   "source": [
    "# Fraction of outliers.\n",
    "fig = plt.figure(figsize=(2.95,0.5*2.95))\n",
    "ax = fig.add_subplot(111)\n",
    "plt.title(r\"$\\nu$ = \"+str(contamination))\n",
    "ax.plot(np.round(15*np.linspace(0, sensors_3_val.shape[0], sensors_3_val.shape[0])/(60*24), 0).astype(\"int\"), \n",
    "        moving_average((EE.predict(sensor_validation_3)-1)/-2, w), color=plt.cm.viridis(0.0), label=\"RC\")\n",
    "ax.plot(np.round(15*np.linspace(0, sensors_3_val.shape[0], sensors_3_val.shape[0])/(60*24), 0).astype(\"int\"), \n",
    "        moving_average((LOF.predict(sensor_validation_3)-1)/-2, w), color=plt.cm.viridis(0.25), label=\"LOF\")\n",
    "ax.plot(np.round(15*np.linspace(0, sensors_3_val.shape[0], sensors_3_val.shape[0])/(60*24), 0).astype(\"int\"), \n",
    "        moving_average((OCSVM.predict(sensor_validation_3)-1)/-2, w), color=plt.cm.viridis(0.50), label=\"OCSVM\")\n",
    "ax.plot(np.round(15*np.linspace(0, sensors_3_val.shape[0], sensors_3_val.shape[0])/(60*24), 0).astype(\"int\"), \n",
    "        moving_average((IF.predict(sensor_validation_3)-1)/-2, w), color=plt.cm.viridis(0.75), label=\"IF\")\n",
    "ax.set_xlim((0, 120))\n",
    "ax.set_ylim((0, 1))\n",
    "ax.set_yticks(np.linspace(0, 1, 6))\n",
    "ax.set_xlabel('time / days')\n",
    "ax.set_ylabel('average fraction of anomalies')\n",
    "# ax.legend(frameon=False, loc=2)\n",
    "plt.savefig('./figures/device_3/2_weeks/sensors_nu_005_fraction',dpi=900,transparent=True,orientation='landscape',bbox_inches='tight')\n",
    "plt.show()"
   ]
  },
  {
   "cell_type": "code",
   "execution_count": 37,
   "metadata": {},
   "outputs": [],
   "source": [
    "# Set amount of contamination.\n",
    "contamination = 0.10\n",
    "\n",
    "# Fit detectors.\n",
    "EE = EllipticEnvelope(contamination=contamination, random_state=0).fit(sensor_training_3)\n",
    "LOF = LocalOutlierFactor(n_neighbors=200, p=2, contamination=contamination, novelty=True, n_jobs=-1).fit(sensor_training_3)\n",
    "OCSVM = OneClassSVM(kernel=\"rbf\", gamma=\"auto\", nu=contamination).fit(sensor_training_3)\n",
    "IF = IsolationForest(n_estimators=100, bootstrap=True, contamination=contamination, random_state=0, n_jobs=-1).fit(sensor_training_3)"
   ]
  },
  {
   "cell_type": "code",
   "execution_count": 38,
   "metadata": {},
   "outputs": [
    {
     "data": {
      "image/png": "[encoded data removed]",
      "text/plain": [
       "<Figure size 212.4x106.2 with 1 Axes>"
      ]
     },
     "metadata": {
      "needs_background": "light"
     },
     "output_type": "display_data"
    }
   ],
   "source": [
    "# Fraction of outliers.\n",
    "fig = plt.figure(figsize=(2.95,0.5*2.95))\n",
    "ax = fig.add_subplot(111)\n",
    "plt.title(r\"$\\nu$ = 0.10\")\n",
    "ax.plot(np.round(15*np.linspace(0, sensors_3_val.shape[0], sensors_3_val.shape[0])/(60*24), 0).astype(\"int\"), \n",
    "        moving_average((EE.predict(sensor_validation_3)-1)/-2, w), color=plt.cm.viridis(0.0), label=\"RC\")\n",
    "ax.plot(np.round(15*np.linspace(0, sensors_3_val.shape[0], sensors_3_val.shape[0])/(60*24), 0).astype(\"int\"), \n",
    "        moving_average((LOF.predict(sensor_validation_3)-1)/-2, w), color=plt.cm.viridis(0.25), label=\"LOF\")\n",
    "ax.plot(np.round(15*np.linspace(0, sensors_3_val.shape[0], sensors_3_val.shape[0])/(60*24), 0).astype(\"int\"), \n",
    "        moving_average((OCSVM.predict(sensor_validation_3)-1)/-2, w), color=plt.cm.viridis(0.50), label=\"OCSVM\")\n",
    "ax.plot(np.round(15*np.linspace(0, sensors_3_val.shape[0], sensors_3_val.shape[0])/(60*24), 0).astype(\"int\"), \n",
    "        moving_average((IF.predict(sensor_validation_3)-1)/-2, w), color=plt.cm.viridis(0.75), label=\"IF\")\n",
    "ax.set_xlim((0, 120))\n",
    "ax.set_ylim((0, 1))\n",
    "ax.set_yticks(np.linspace(0, 1, 6))\n",
    "ax.set_xlabel('time / days')\n",
    "ax.set_ylabel('average fraction of anomalies')\n",
    "# ax.legend(frameon=False, loc=2)\n",
    "plt.savefig('./figures/device_3/2_weeks/sensors_nu_010_fraction',dpi=900,transparent=True,orientation='landscape',bbox_inches='tight')\n",
    "plt.show()"
   ]
  }
 ],
 "metadata": {
  "kernelspec": {
   "display_name": "Python 3",
   "language": "python",
   "name": "python3"
  },
  "language_info": {
   "codemirror_mode": {
    "name": "ipython",
    "version": 3
   },
   "file_extension": ".py",
   "mimetype": "text/x-python",
   "name": "python",
   "nbconvert_exporter": "python",
   "pygments_lexer": "ipython3",
   "version": "3.7.6"
  }
 },
 "nbformat": 4,
 "nbformat_minor": 4
}
